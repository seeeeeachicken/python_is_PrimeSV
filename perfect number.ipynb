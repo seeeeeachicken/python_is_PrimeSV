{
 "cells": [
  {
   "cell_type": "code",
   "execution_count": 1,
   "metadata": {},
   "outputs": [],
   "source": [
    "import math\n",
    "\n",
    "def is_perfect(n):\n",
    "    sum=0 \n",
    "    if n%2!=0: \n",
    "        return \"完全数じゃない\"\n",
    "    else:\n",
    "        for i in range(1,n):\n",
    "             if  n%i==0:\n",
    "                    sum=sum+i\n",
    "        if sum==n:\n",
    "            return \"完全数\"\n",
    "        else:\n",
    "            return \"完全数じゃない\"\n",
    "        \n",
    "def is_perfect2(n):\n",
    "    if is_prime(2**n-1)==True:\n",
    "        return 2**(n-1)*(2**n-1)\n",
    "        \n",
    "        \n",
    "def perfect_list(n):\n",
    "    for i in range (1,n):\n",
    "        if is_perfect(i)==\"完全数\":\n",
    "            print(i)\n",
    "    \n",
    "            \n",
    "def perfect_list2(n):\n",
    "    for i in range (1,n):\n",
    "        if isinstance(is_perfect2(i),int) == True:\n",
    "            print(is_perfect2(i))\n",
    "        \n",
    "        \n",
    "def is_prime(n):\n",
    "    if n == 1: return False\n",
    "\n",
    "    for k in range(2, int(math.sqrt(n)) + 1):\n",
    "        if n % k == 0:\n",
    "            return False\n",
    "\n",
    "    return True"
   ]
  },
  {
   "cell_type": "code",
   "execution_count": 2,
   "metadata": {},
   "outputs": [
    {
     "data": {
      "text/plain": [
       "33550336"
      ]
     },
     "execution_count": 2,
     "metadata": {},
     "output_type": "execute_result"
    }
   ],
   "source": [
    "is_perfect2(13)"
   ]
  },
  {
   "cell_type": "code",
   "execution_count": 3,
   "metadata": {},
   "outputs": [
    {
     "name": "stdout",
     "output_type": "stream",
     "text": [
      "6\n",
      "28\n",
      "496\n",
      "8128\n",
      "33550336\n",
      "8589869056\n",
      "137438691328\n",
      "2305843008139952128\n",
      "2658455991569831744654692615953842176\n"
     ]
    }
   ],
   "source": [
    "perfect_list2(9999999999999999999999999999)"
   ]
  },
  {
   "cell_type": "code",
   "execution_count": 212,
   "metadata": {},
   "outputs": [
    {
     "data": {
      "text/plain": [
       "True"
      ]
     },
     "execution_count": 212,
     "metadata": {},
     "output_type": "execute_result"
    }
   ],
   "source": [
    "n=3\n",
    "\n",
    "isinstance(n, int)\n"
   ]
  },
  {
   "cell_type": "code",
   "execution_count": null,
   "metadata": {},
   "outputs": [
    {
     "name": "stdout",
     "output_type": "stream",
     "text": [
      "6\n",
      "28\n",
      "496\n",
      "8128\n"
     ]
    }
   ],
   "source": [
    "perfect_list(100000000)"
   ]
  },
  {
   "cell_type": "code",
   "execution_count": null,
   "metadata": {},
   "outputs": [],
   "source": []
  }
 ],
 "metadata": {
  "kernelspec": {
   "display_name": "Python 3",
   "language": "python",
   "name": "python3"
  },
  "language_info": {
   "codemirror_mode": {
    "name": "ipython",
    "version": 3
   },
   "file_extension": ".py",
   "mimetype": "text/x-python",
   "name": "python",
   "nbconvert_exporter": "python",
   "pygments_lexer": "ipython3",
   "version": "3.11.5"
  }
 },
 "nbformat": 4,
 "nbformat_minor": 4
}
